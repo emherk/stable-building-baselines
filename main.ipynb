{
 "cells": [
  {
   "cell_type": "code",
   "execution_count": 10,
   "metadata": {
    "collapsed": true
   },
   "outputs": [],
   "source": [
    "from gym.wrappers import Monitor\n",
    "from datetime import timedelta\n",
    "\n",
    "from matplotlib import pyplot as plt\n",
    "from stable_baselines3 import SAC\n",
    "from stable_baselines3.common.callbacks import EvalCallback, StopTrainingOnNoModelImprovement\n",
    "\n",
    "from building_env import BuildingEnv\n",
    "from building_plot_callback import BuildingPlotCallback\n",
    "\n",
    "floor_area = 100\n",
    "env = eval_env = BuildingEnv(\n",
    "    heat_mass_capacity=165000 * floor_area,\n",
    "    heat_transmission=200,\n",
    "    maximum_cooling_power=-10000,\n",
    "    maximum_heating_power=10000,\n",
    "    time_step=timedelta(minutes=15),\n",
    "    floor_area=floor_area,\n",
    "    episode_length=timedelta(days=15),\n",
    ")\n",
    "\n",
    "log_dir = \"tmp/gym\"\n",
    "# env = make_vec_env(lambda: env, n_envs=1, monitor_dir=log_dir)\n",
    "# eval_env = make_vec_env(lambda: eval_env, n_envs=1)\n",
    "\n",
    "# env = Monitor(env, log_dir)\n",
    "plot_callback = BuildingPlotCallback(log_dir)\n",
    "stop_train_callback = StopTrainingOnNoModelImprovement(max_no_improvement_evals=5,\n",
    "                                                       min_evals=8,\n",
    "                                                       verbose=1)\n",
    "eval_callback = EvalCallback(eval_env,\n",
    "                             eval_freq=1000,\n",
    "                             best_model_save_path=log_dir + \"/best_model\",\n",
    "                             verbose=1)\n",
    "# # %%\n",
    "# model = A2C(\"MlpPolicy\", env, tensorboard_log=log_dir)\n",
    "# model.learn(total_timesteps=100, callback=[plot_callback], tb_log_name=\"A2C\")"
   ]
  },
  {
   "cell_type": "code",
   "execution_count": 13,
   "outputs": [
    {
     "data": {
      "text/plain": "array([2.50e+01, 9.50e-01, 1.03e+03], dtype=float32)"
     },
     "execution_count": 13,
     "metadata": {},
     "output_type": "execute_result"
    }
   ],
   "source": [
    "env.reset()"
   ],
   "metadata": {
    "collapsed": false
   }
  },
  {
   "cell_type": "code",
   "execution_count": 12,
   "outputs": [
    {
     "ename": "AssertionError",
     "evalue": "The observation returned by the `reset()` method does not match the given observation space",
     "output_type": "error",
     "traceback": [
      "\u001B[1;31m---------------------------------------------------------------------------\u001B[0m",
      "\u001B[1;31mAssertionError\u001B[0m                            Traceback (most recent call last)",
      "Cell \u001B[1;32mIn[12], line 2\u001B[0m\n\u001B[0;32m      1\u001B[0m \u001B[38;5;28;01mfrom\u001B[39;00m \u001B[38;5;21;01mstable_baselines3\u001B[39;00m\u001B[38;5;21;01m.\u001B[39;00m\u001B[38;5;21;01mcommon\u001B[39;00m\u001B[38;5;21;01m.\u001B[39;00m\u001B[38;5;21;01menv_checker\u001B[39;00m \u001B[38;5;28;01mimport\u001B[39;00m check_env\n\u001B[1;32m----> 2\u001B[0m \u001B[43mcheck_env\u001B[49m\u001B[43m(\u001B[49m\u001B[43menv\u001B[49m\u001B[43m)\u001B[49m\n\u001B[0;32m      3\u001B[0m env\u001B[38;5;241m.\u001B[39mreset()\n",
      "File \u001B[1;32m~\\.virtualenvs\\drl_4_hvac-mUZX40RS\\lib\\site-packages\\stable_baselines3\\common\\env_checker.py:377\u001B[0m, in \u001B[0;36mcheck_env\u001B[1;34m(env, warn, skip_render_check)\u001B[0m\n\u001B[0;32m    372\u001B[0m         warnings\u001B[38;5;241m.\u001B[39mwarn(\n\u001B[0;32m    373\u001B[0m             \u001B[38;5;124mf\u001B[39m\u001B[38;5;124m\"\u001B[39m\u001B[38;5;124mYour action space has dtype \u001B[39m\u001B[38;5;132;01m{\u001B[39;00maction_space\u001B[38;5;241m.\u001B[39mdtype\u001B[38;5;132;01m}\u001B[39;00m\u001B[38;5;124m, we recommend using np.float32 to avoid cast errors.\u001B[39m\u001B[38;5;124m\"\u001B[39m\n\u001B[0;32m    374\u001B[0m         )\n\u001B[0;32m    376\u001B[0m \u001B[38;5;66;03m# ============ Check the returned values ===============\u001B[39;00m\n\u001B[1;32m--> 377\u001B[0m \u001B[43m_check_returned_values\u001B[49m\u001B[43m(\u001B[49m\u001B[43menv\u001B[49m\u001B[43m,\u001B[49m\u001B[43m \u001B[49m\u001B[43mobservation_space\u001B[49m\u001B[43m,\u001B[49m\u001B[43m \u001B[49m\u001B[43maction_space\u001B[49m\u001B[43m)\u001B[49m\n\u001B[0;32m    379\u001B[0m \u001B[38;5;66;03m# ==== Check the render method and the declared render modes ====\u001B[39;00m\n\u001B[0;32m    380\u001B[0m \u001B[38;5;28;01mif\u001B[39;00m \u001B[38;5;129;01mnot\u001B[39;00m skip_render_check:\n",
      "File \u001B[1;32m~\\.virtualenvs\\drl_4_hvac-mUZX40RS\\lib\\site-packages\\stable_baselines3\\common\\env_checker.py:223\u001B[0m, in \u001B[0;36m_check_returned_values\u001B[1;34m(env, observation_space, action_space)\u001B[0m\n\u001B[0;32m    221\u001B[0m             \u001B[38;5;28;01mraise\u001B[39;00m \u001B[38;5;167;01mAssertionError\u001B[39;00m(\u001B[38;5;124mf\u001B[39m\u001B[38;5;124m\"\u001B[39m\u001B[38;5;124mError while checking key=\u001B[39m\u001B[38;5;132;01m{\u001B[39;00mkey\u001B[38;5;132;01m}\u001B[39;00m\u001B[38;5;124m: \u001B[39m\u001B[38;5;124m\"\u001B[39m \u001B[38;5;241m+\u001B[39m \u001B[38;5;28mstr\u001B[39m(e)) \u001B[38;5;28;01mfrom\u001B[39;00m \u001B[38;5;21;01me\u001B[39;00m\n\u001B[0;32m    222\u001B[0m \u001B[38;5;28;01melse\u001B[39;00m:\n\u001B[1;32m--> 223\u001B[0m     \u001B[43m_check_obs\u001B[49m\u001B[43m(\u001B[49m\u001B[43mobs\u001B[49m\u001B[43m,\u001B[49m\u001B[43m \u001B[49m\u001B[43mobservation_space\u001B[49m\u001B[43m,\u001B[49m\u001B[43m \u001B[49m\u001B[38;5;124;43m\"\u001B[39;49m\u001B[38;5;124;43mreset\u001B[39;49m\u001B[38;5;124;43m\"\u001B[39;49m\u001B[43m)\u001B[49m\n\u001B[0;32m    225\u001B[0m \u001B[38;5;66;03m# Sample a random action\u001B[39;00m\n\u001B[0;32m    226\u001B[0m action \u001B[38;5;241m=\u001B[39m action_space\u001B[38;5;241m.\u001B[39msample()\n",
      "File \u001B[1;32m~\\.virtualenvs\\drl_4_hvac-mUZX40RS\\lib\\site-packages\\stable_baselines3\\common\\env_checker.py:172\u001B[0m, in \u001B[0;36m_check_obs\u001B[1;34m(obs, observation_space, method_name)\u001B[0m\n\u001B[0;32m    169\u001B[0m \u001B[38;5;28;01melif\u001B[39;00m _is_numpy_array_space(observation_space):\n\u001B[0;32m    170\u001B[0m     \u001B[38;5;28;01massert\u001B[39;00m \u001B[38;5;28misinstance\u001B[39m(obs, np\u001B[38;5;241m.\u001B[39mndarray), \u001B[38;5;124mf\u001B[39m\u001B[38;5;124m\"\u001B[39m\u001B[38;5;124mThe observation returned by `\u001B[39m\u001B[38;5;132;01m{\u001B[39;00mmethod_name\u001B[38;5;132;01m}\u001B[39;00m\u001B[38;5;124m()` method must be a numpy array\u001B[39m\u001B[38;5;124m\"\u001B[39m\n\u001B[1;32m--> 172\u001B[0m \u001B[38;5;28;01massert\u001B[39;00m observation_space\u001B[38;5;241m.\u001B[39mcontains(\n\u001B[0;32m    173\u001B[0m     obs\n\u001B[0;32m    174\u001B[0m ), \u001B[38;5;124mf\u001B[39m\u001B[38;5;124m\"\u001B[39m\u001B[38;5;124mThe observation returned by the `\u001B[39m\u001B[38;5;132;01m{\u001B[39;00mmethod_name\u001B[38;5;132;01m}\u001B[39;00m\u001B[38;5;124m()` method does not match the given observation space\u001B[39m\u001B[38;5;124m\"\u001B[39m\n",
      "\u001B[1;31mAssertionError\u001B[0m: The observation returned by the `reset()` method does not match the given observation space"
     ]
    }
   ],
   "source": [
    "\n",
    "from stable_baselines3.common.env_checker import check_env\n",
    "check_env(env)"
   ],
   "metadata": {
    "collapsed": false
   }
  },
  {
   "cell_type": "code",
   "execution_count": null,
   "outputs": [],
   "source": [
    "\n",
    "\n",
    "model = SAC(\"MlpPolicy\", env, tensorboard_log=log_dir)\n",
    "model.learn(total_timesteps=10_000, callback=[plot_callback], tb_log_name=\"SAC\")\n",
    "\n"
   ],
   "metadata": {
    "collapsed": false
   }
  }
 ],
 "metadata": {
  "kernelspec": {
   "display_name": "Python 3",
   "language": "python",
   "name": "python3"
  },
  "language_info": {
   "codemirror_mode": {
    "name": "ipython",
    "version": 2
   },
   "file_extension": ".py",
   "mimetype": "text/x-python",
   "name": "python",
   "nbconvert_exporter": "python",
   "pygments_lexer": "ipython2",
   "version": "2.7.6"
  }
 },
 "nbformat": 4,
 "nbformat_minor": 0
}
